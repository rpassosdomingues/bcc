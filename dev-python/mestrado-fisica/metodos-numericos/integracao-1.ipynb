{
 "cells": [
  {
   "cell_type": "markdown",
   "metadata": {},
   "source": [
    "# Integração numérica 1: A regra dos trapézios"
   ]
  },
  {
   "cell_type": "markdown",
   "metadata": {},
   "source": [
    "Um exemplo simples da integração numérica usando a regra dos trapézios:\n",
    "\n",
    "\n",
    "A área de um único trapézio entre os pontos $x_j$ and $x_{j+1}$ é dada por:\n",
    "$$ \\frac{h}{2} (f(x_j) + f(x_{j+1}). $$\n",
    "\n",
    "Somando isso sobre $n$ trapezóides em um dado intervalo [a,b] temos:\n",
    "Summing this up over all the trapezoids gives:\n",
    "$$ h\\left(\\frac 1 2 f(x_0) + f(x_1) + f(x_2) + \\cdots + f(x_{n-2}) + \\frac 1 2 f(x_{n-1})\\right) = h\\sum_{j=0}^{n-1} f(x_j) - \\frac h 2 \\left(f(x_0) + f(x_{n-1})\\right) =  h\\sum_{j=0}^{n-1} f(x_j) - \\frac h 2 \\left(f(a) + f(b))\\right). $$\n"
   ]
  },
  {
   "cell_type": "code",
   "execution_count": 36,
   "metadata": {
    "collapsed": false,
    "jupyter": {
     "outputs_hidden": false
    }
   },
   "outputs": [],
   "source": [
    "%matplotlib inline\n",
    "import numpy as np\n",
    "import matplotlib.pyplot as plt"
   ]
  },
  {
   "cell_type": "markdown",
   "metadata": {},
   "source": [
    "Primeiro definimos a função para qual desejamos obter o valor da integral:"
   ]
  },
  {
   "cell_type": "code",
   "execution_count": 37,
   "metadata": {
    "collapsed": true,
    "jupyter": {
     "outputs_hidden": true
    }
   },
   "outputs": [],
   "source": [
    "def f(x):\n",
    "    return (x-3)*(x-5)*(x-7)+85"
   ]
  },
  {
   "cell_type": "markdown",
   "metadata": {},
   "source": [
    "Para podermos fazer o gráfico mostrando a função e os trapézio utilizados na integração, amostramos a função entre 0 e 10 utilizando 200 pontos:"
   ]
  },
  {
   "cell_type": "code",
   "execution_count": 38,
   "metadata": {
    "collapsed": false,
    "jupyter": {
     "outputs_hidden": false
    }
   },
   "outputs": [],
   "source": [
    "x = np.linspace(0, 10, 200)\n",
    "y = f(x)"
   ]
  },
  {
   "cell_type": "markdown",
   "metadata": {},
   "source": [
    "defina a região onde se quer integrar e o numero de trapézios a usar"
   ]
  },
  {
   "cell_type": "code",
   "execution_count": 54,
   "metadata": {
    "collapsed": true,
    "jupyter": {
     "outputs_hidden": true
    }
   },
   "outputs": [
    {
     "name": "stdout",
     "output_type": "stream",
     "text": [
      "[ 1.    2.75  4.5   6.25  8.  ]\n",
      "[  37.         82.609375   86.875      81.953125  100.      ]\n"
     ]
    }
   ],
   "source": [
    "a, b = 1, 8                     # define os limnites de integração\n",
    "\n",
    "ndiv = 5                        # numero de intervalos a serem utilizados\n",
    "xint = np.linspace(a,b,ndiv)    # cria um vetor com ndiv elementos entre os limites de integração\n",
    "yint = f(xint)                  # calcula o valor da função nos pontos do vetor acima\n",
    "\n",
    "print(xint)\n",
    "print(yint)"
   ]
  },
  {
   "cell_type": "markdown",
   "metadata": {},
   "source": [
    "plotamos a curva e os trapézios usados para a integração"
   ]
  },
  {
   "cell_type": "code",
   "execution_count": 55,
   "metadata": {
    "collapsed": false,
    "jupyter": {
     "outputs_hidden": false
    }
   },
   "outputs": [
    {
     "data": {
      "text/plain": [
       "[<matplotlib.lines.Line2D at 0x7f9e047def50>]"
      ]
     },
     "execution_count": 55,
     "metadata": {},
     "output_type": "execute_result"
    },
    {
     "data": {
      "image/png": "[encoded data removed]",
      "text/plain": [
       "<matplotlib.figure.Figure at 0x7f9e046b6d10>"
      ]
     },
     "metadata": {},
     "output_type": "display_data"
    }
   ],
   "source": [
    "plt.plot(x, y, lw=2,color='r')\n",
    "plt.axis([a-1, b+1, 0, max([f(a),f(b)])])\n",
    "plt.fill_between(xint, 0, yint, facecolor='gray', alpha=0.4)\n",
    "plt.text(0.5 * (a + b), 30,r\"$\\int_a^b f(x)dx$\", horizontalalignment='center', fontsize=20);\n",
    "\n",
    "plt.plot(xint,yint,'bo-')"
   ]
  },
  {
   "cell_type": "markdown",
   "metadata": {},
   "source": [
    "Usando as funções nativas do SciPy fazemos a conta usando quadratura e os trapézios"
   ]
  },
  {
   "cell_type": "code",
   "execution_count": 56,
   "metadata": {
    "collapsed": false,
    "jupyter": {
     "outputs_hidden": false
    }
   },
   "outputs": [
    {
     "name": "stdout",
     "output_type": "stream",
     "text": [
      "Integral por quadratura: 565.25 +/- 6.27553564669e-12\n",
      "Integral usando  5 trapezóides: 559.890625\n"
     ]
    }
   ],
   "source": [
    "from scipy.integrate import quad, trapz\n",
    "integral, error = quad(f, a, b)\n",
    "print(\"Integral por quadratura:\", integral, \"+/-\", error)\n",
    "print(\"Integral usando \", len(xint), \"trapezóides:\", trapz(yint, xint))"
   ]
  },
  {
   "cell_type": "markdown",
   "metadata": {},
   "source": [
    "## Exercícios"
   ]
  },
  {
   "cell_type": "markdown",
   "metadata": {},
   "source": [
    "Exercício 1: Escreva uma função em python que calcule a integral pelo método dos trapézios, utilizando um looping \"FOR\" para calcular a somatória. Com essa função calcule as integrais das funções abaixo:\n",
    "\n",
    "$$a)~ (x-3)*(x-5)*(x-7)+85 ~~~com~a=1~e~b=9\\\\\n",
    "  b)~f_2(x) = 1 + x^3 + \\sin(kx)~~~com~a=0~e~b=2$$\n",
    "  \n",
    "  onde $k$ é um parametro.\n",
    "  \n",
    "  - Faça uma análise dos erros cometidos a medida que se aumenta o numero de intervalos. Para o numero de intervalos utilize a seginte sequencia: [5, 10, 20, 40, 80, 160, 320]. Utilize gráficos para mostrar seus resultados.\n",
    "  \n",
    "  - Tente usar a função SUM para escrever uma outra versão da função de calculo via trapézios.\n",
    "\n",
    "Sua função deve ser algo como:"
   ]
  },
  {
   "cell_type": "code",
   "execution_count": 57,
   "metadata": {
    "collapsed": false,
    "jupyter": {
     "outputs_hidden": false
    }
   },
   "outputs": [],
   "source": [
    "  def trapezoidal(f, a, b, N):\n",
    "    \"\"\"Essa função integra uma função f de a até b usando N intervalos.\"\"\"\n",
    "    # seu código aqui."
   ]
  },
  {
   "cell_type": "code",
   "execution_count": null,
   "metadata": {
    "collapsed": false,
    "jupyter": {
     "outputs_hidden": false
    }
   },
   "outputs": [],
   "source": [
    "# voce deve poder chamar sua função com algo como\n",
    "trapezoidal(func, 0, 10., 5)"
   ]
  }
 ],
 "metadata": {
  "kernelspec": {
   "display_name": "Python 3",
   "language": "python",
   "name": "python3"
  },
  "language_info": {
   "codemirror_mode": {
    "name": "ipython",
    "version": 3
   },
   "file_extension": ".py",
   "mimetype": "text/x-python",
   "name": "python",
   "nbconvert_exporter": "python",
   "pygments_lexer": "ipython3",
   "version": "3.7.3"
  }
 },
 "nbformat": 4,
 "nbformat_minor": 4
}
