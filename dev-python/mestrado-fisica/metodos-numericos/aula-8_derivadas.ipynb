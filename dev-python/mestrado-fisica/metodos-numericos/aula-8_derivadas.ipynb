{
 "cells": [
  {
   "cell_type": "markdown",
   "metadata": {},
   "source": []
  },
  {
   "cell_type": "markdown",
   "metadata": {},
   "source": [
    "# Derivadas numéricas\n",
    "\n",
    "A definição de derivada é:\n",
    "\n",
    "$$\\frac{df}{dx} = \\lim_{h \\to 0} {f(x+h)-f(x) \\over h}$$ \n",
    "\n",
    "\n",
    "O método mais simples para o cáculo de derivadas numéricas é o de diferenças finitas:\n",
    "\n",
    "$$f'(x) \\approx {f(x+h)-f(x) \\over h}$$ \n",
    "foward diference\n",
    "\n",
    "$$f'(x) \\approx {f(x)-f(x-h) \\over h}$$ \n",
    "backward diference\n",
    "\n",
    "\n",
    "A escolha de um ou outro método vai depender do problema a ser resolvido. Por exemplo em casos onde se necessita da derivada na fronteira de um intervalo. Dependendo da posição da fronteira somente um ou outro método será aplicavel. De modo geral ambos dão aproximadamente o mesmo resultado.\n",
    "\n",
    "\n",
    "Ao contrário das integrais, as derivadas numericas são afetadas pelo erro de arredondamento assim como erro de resolução devido a escolha do tamanho $h$ do intervalo.\n",
    "\n",
    "No caso das derivadas, como estamos lidando com uma subtração de numeros e estes tendem a ser muito proximos pois $h$ deve ser o menor possível, o erro de arredondamento fica importante.\n",
    "\n",
    "O livro texto mostra como obter o $h$ ideal para que não se cometam grandes erros de arredondamento.\n",
    "De modo geral, usando expansão de Taylor para expressar a função $f(x)$ pode-se mostrar que:\n",
    "\n",
    "$$ h = \\sqrt{4C \\left|\\frac{f(x)}{f''(x)} \\right |} $$\n",
    "\n",
    "$$ \\epsilon = h|f''(x)| = ( 4C|f(x)f''(x)|)^{1/2} $$\n",
    "\n",
    "onde C é a precisão da máquina. Ou seja, o tamanho ideal seria da ordem de $\\sqrt{C}$, assim como o erro obtido. No caso do Python este valor é da ordem de 1.0e-8.\n",
    "\n",
    "Uma maneira de se obter um resultado melhor é usando a diferença central:\n",
    "\n",
    "$$f'(x) \\approx {f(x+h/2)-f(x-h/2) \\over h}$$ \n",
    "\n",
    "ou central or symmetric diference\n",
    "\n",
    "usando as expansões obtemos para o $h$ ideal e o erro:\n",
    "\n",
    "\n",
    "$$ h = \\left( 24C \\left|\\frac{f(x)}{f'''(x)} \\right | \\right)^{1/3} $$\n",
    "\n",
    "$$ \\epsilon = \\frac{1}{8}h^2|f'''(x)| = ( \\frac{9}{8}C^2[f(x)]^2|f'''(x)|)^{1/3} $$\n",
    "\n",
    "neste caso usando a precisão típica do Python temos um $h$ ideal de 1.0e-5 que leva a um erro da ordem de 1.0e-10.\n",
    "\n",
    "Veja abaixo a interpretação geométricas das 3 metodologias de cálculo:\n",
    "fonte: https://en.wikipedia.org/wiki/Finite_differencehttps://en.wikipedia.org/wiki/Finite_difference"
   ]
  },
  {
   "cell_type": "code",
   "execution_count": 5,
   "metadata": {},
   "outputs": [
    {
     "data": {
      "image/svg+xml": [
       "<svg height=\"94.276413mm\" id=\"svg2\" inkscape:version=\"0.91 r13725\" sodipodi:docname=\"fd.svg\" version=\"1.1\" viewBox=\"0 0 495.51627 334.05028\" width=\"139.8457mm\" xmlns=\"http://www.w3.org/2000/svg\" xmlns:cc=\"http://creativecommons.org/ns#\" xmlns:dc=\"http://purl.org/dc/elements/1.1/\" xmlns:inkscape=\"http://www.inkscape.org/namespaces/inkscape\" xmlns:rdf=\"http://www.w3.org/1999/02/22-rdf-syntax-ns#\" xmlns:sodipodi=\"http://sodipodi.sourceforge.net/DTD/sodipodi-0.dtd\" xmlns:svg=\"http://www.w3.org/2000/svg\">\n",
       "  <defs id=\"defs4\">\n",
       "    <marker id=\"marker6224\" inkscape:isstock=\"true\" inkscape:stockid=\"Arrow2Mend\" orient=\"auto\" refX=\"0\" refY=\"0\" style=\"overflow:visible\">\n",
       "      <path d=\"M 8.7185878,4.0337352 -2.2072895,0.01601326 8.7185884,-4.0017078 c -1.7454984,2.3720609 -1.7354408,5.6174519 -6e-7,8.035443 z\" id=\"path6226\" inkscape:connector-curvature=\"0\" style=\"fill:#000000;fill-opacity:1;fill-rule:evenodd;stroke:#000000;stroke-width:0.625;stroke-linejoin:round;stroke-opacity:1\" transform=\"scale(-0.6,-0.6)\"/>\n",
       "    </marker>\n",
       "    <marker id=\"marker6124\" inkscape:collect=\"always\" inkscape:isstock=\"true\" inkscape:stockid=\"Arrow2Mend\" orient=\"auto\" refX=\"0\" refY=\"0\" style=\"overflow:visible\">\n",
       "      <path d=\"M 8.7185878,4.0337352 -2.2072895,0.01601326 8.7185884,-4.0017078 c -1.7454984,2.3720609 -1.7354408,5.6174519 -6e-7,8.035443 z\" id=\"path6126\" inkscape:connector-curvature=\"0\" style=\"fill:#000000;fill-opacity:1;fill-rule:evenodd;stroke:#000000;stroke-width:0.625;stroke-linejoin:round;stroke-opacity:1\" transform=\"scale(-0.6,-0.6)\"/>\n",
       "    </marker>\n",
       "    <marker id=\"marker6030\" inkscape:collect=\"always\" inkscape:isstock=\"true\" inkscape:stockid=\"Arrow2Mend\" orient=\"auto\" refX=\"0\" refY=\"0\" style=\"overflow:visible\">\n",
       "      <path d=\"M 8.7185878,4.0337352 -2.2072895,0.01601326 8.7185884,-4.0017078 c -1.7454984,2.3720609 -1.7354408,5.6174519 -6e-7,8.035443 z\" id=\"path6032\" inkscape:connector-curvature=\"0\" style=\"fill:#000000;fill-opacity:1;fill-rule:evenodd;stroke:#000000;stroke-width:0.625;stroke-linejoin:round;stroke-opacity:1\" transform=\"scale(-0.6,-0.6)\"/>\n",
       "    </marker>\n",
       "    <marker id=\"Arrow1Mend\" inkscape:isstock=\"true\" inkscape:stockid=\"Arrow1Mend\" orient=\"auto\" refX=\"0\" refY=\"0\" style=\"overflow:visible\">\n",
       "      <path d=\"M 0,0 5,-5 -12.5,0 5,5 0,0 Z\" id=\"path4151\" inkscape:connector-curvature=\"0\" style=\"fill:#000000;fill-opacity:1;fill-rule:evenodd;stroke:#000000;stroke-width:1pt;stroke-opacity:1\" transform=\"matrix(-0.4,0,0,-0.4,-4,0)\"/>\n",
       "    </marker>\n",
       "    <marker id=\"marker4852\" inkscape:collect=\"always\" inkscape:isstock=\"true\" inkscape:stockid=\"Arrow2Mend\" orient=\"auto\" refX=\"0\" refY=\"0\" style=\"overflow:visible\">\n",
       "      <path d=\"M 8.7185878,4.0337352 -2.2072895,0.01601326 8.7185884,-4.0017078 c -1.7454984,2.3720609 -1.7354408,5.6174519 -6e-7,8.035443 z\" id=\"path4854\" inkscape:connector-curvature=\"0\" style=\"fill:#000000;fill-opacity:1;fill-rule:evenodd;stroke:#000000;stroke-width:0.625;stroke-linejoin:round;stroke-opacity:1\" transform=\"scale(-0.6,-0.6)\"/>\n",
       "    </marker>\n",
       "    <marker id=\"marker4794\" inkscape:isstock=\"true\" inkscape:stockid=\"Arrow2Mstart\" orient=\"auto\" refX=\"0\" refY=\"0\" style=\"overflow:visible\">\n",
       "      <path d=\"M 8.7185878,4.0337352 -2.2072895,0.01601326 8.7185884,-4.0017078 c -1.7454984,2.3720609 -1.7354408,5.6174519 -6e-7,8.035443 z\" id=\"path4796\" inkscape:connector-curvature=\"0\" style=\"fill:#000000;fill-opacity:1;fill-rule:evenodd;stroke:#000000;stroke-width:0.625;stroke-linejoin:round;stroke-opacity:1\" transform=\"scale(0.6,0.6)\"/>\n",
       "    </marker>\n",
       "    <marker id=\"marker4728\" inkscape:collect=\"always\" inkscape:isstock=\"true\" inkscape:stockid=\"Arrow2Mend\" orient=\"auto\" refX=\"0\" refY=\"0\" style=\"overflow:visible\">\n",
       "      <path d=\"M 8.7185878,4.0337352 -2.2072895,0.01601326 8.7185884,-4.0017078 c -1.7454984,2.3720609 -1.7354408,5.6174519 -6e-7,8.035443 z\" id=\"path4730\" inkscape:connector-curvature=\"0\" style=\"fill:#000000;fill-opacity:1;fill-rule:evenodd;stroke:#000000;stroke-width:0.625;stroke-linejoin:round;stroke-opacity:1\" transform=\"scale(-0.6,-0.6)\"/>\n",
       "    </marker>\n",
       "    <marker id=\"marker4676\" inkscape:collect=\"always\" inkscape:isstock=\"true\" inkscape:stockid=\"Arrow2Mstart\" orient=\"auto\" refX=\"0\" refY=\"0\" style=\"overflow:visible\">\n",
       "      <path d=\"M 8.7185878,4.0337352 -2.2072895,0.01601326 8.7185884,-4.0017078 c -1.7454984,2.3720609 -1.7354408,5.6174519 -6e-7,8.035443 z\" id=\"path4678\" inkscape:connector-curvature=\"0\" style=\"fill:#000000;fill-opacity:1;fill-rule:evenodd;stroke:#000000;stroke-width:0.625;stroke-linejoin:round;stroke-opacity:1\" transform=\"scale(0.6,0.6)\"/>\n",
       "    </marker>\n",
       "    <marker id=\"Arrow2Mend\" inkscape:isstock=\"true\" inkscape:stockid=\"Arrow2Mend\" orient=\"auto\" refX=\"0\" refY=\"0\" style=\"overflow:visible\">\n",
       "      <path d=\"M 8.7185878,4.0337352 -2.2072895,0.01601326 8.7185884,-4.0017078 c -1.7454984,2.3720609 -1.7354408,5.6174519 -6e-7,8.035443 z\" id=\"path4169\" inkscape:connector-curvature=\"0\" style=\"fill:#000000;fill-opacity:1;fill-rule:evenodd;stroke:#000000;stroke-width:0.625;stroke-linejoin:round;stroke-opacity:1\" transform=\"scale(-0.6,-0.6)\"/>\n",
       "    </marker>\n",
       "    <marker id=\"Arrow2Mstart\" inkscape:isstock=\"true\" inkscape:stockid=\"Arrow2Mstart\" orient=\"auto\" refX=\"0\" refY=\"0\" style=\"overflow:visible\">\n",
       "      <path d=\"M 8.7185878,4.0337352 -2.2072895,0.01601326 8.7185884,-4.0017078 c -1.7454984,2.3720609 -1.7354408,5.6174519 -6e-7,8.035443 z\" id=\"path4166\" inkscape:connector-curvature=\"0\" style=\"fill:#000000;fill-opacity:1;fill-rule:evenodd;stroke:#000000;stroke-width:0.625;stroke-linejoin:round;stroke-opacity:1\" transform=\"scale(0.6,0.6)\"/>\n",
       "    </marker>\n",
       "    <marker id=\"Arrow1Lstart\" inkscape:isstock=\"true\" inkscape:stockid=\"Arrow1Lstart\" orient=\"auto\" refX=\"0\" refY=\"0\" style=\"overflow:visible\">\n",
       "      <path d=\"M 0,0 5,-5 -12.5,0 5,5 0,0 Z\" id=\"path4142\" inkscape:connector-curvature=\"0\" style=\"fill:#000000;fill-opacity:1;fill-rule:evenodd;stroke:#000000;stroke-width:1pt;stroke-opacity:1\" transform=\"matrix(0.8,0,0,0.8,10,0)\"/>\n",
       "    </marker>\n",
       "    <marker id=\"Arrow2Lend\" inkscape:isstock=\"true\" inkscape:stockid=\"Arrow2Lend\" orient=\"auto\" refX=\"0\" refY=\"0\" style=\"overflow:visible\">\n",
       "      <path d=\"M 8.7185878,4.0337352 -2.2072895,0.01601326 8.7185884,-4.0017078 c -1.7454984,2.3720609 -1.7354408,5.6174519 -6e-7,8.035443 z\" id=\"path4163\" inkscape:connector-curvature=\"0\" style=\"fill:#000000;fill-opacity:1;fill-rule:evenodd;stroke:#000000;stroke-width:0.625;stroke-linejoin:round;stroke-opacity:1\" transform=\"matrix(-1.1,0,0,-1.1,-1.1,0)\"/>\n",
       "    </marker>\n",
       "    <marker id=\"Arrow1Lend\" inkscape:isstock=\"true\" inkscape:stockid=\"Arrow1Lend\" orient=\"auto\" refX=\"0\" refY=\"0\" style=\"overflow:visible\">\n",
       "      <path d=\"M 0,0 5,-5 -12.5,0 5,5 0,0 Z\" id=\"path4145\" inkscape:connector-curvature=\"0\" style=\"fill:#000000;fill-opacity:1;fill-rule:evenodd;stroke:#000000;stroke-width:1pt;stroke-opacity:1\" transform=\"matrix(-0.8,0,0,-0.8,-10,0)\"/>\n",
       "    </marker>\n",
       "  </defs>\n",
       "  <sodipodi:namedview bordercolor=\"#666666\" borderopacity=\"1.0\" fit-margin-bottom=\"3\" fit-margin-left=\"3\" fit-margin-right=\"3\" fit-margin-top=\"3\" id=\"base\" inkscape:current-layer=\"layer1\" inkscape:cx=\"-47.811868\" inkscape:cy=\"250.13751\" inkscape:document-units=\"px\" inkscape:pageopacity=\"0.0\" inkscape:pageshadow=\"2\" inkscape:snap-global=\"false\" inkscape:window-height=\"756\" inkscape:window-maximized=\"1\" inkscape:window-width=\"1276\" inkscape:window-x=\"0\" inkscape:window-y=\"0\" inkscape:zoom=\"0.49497475\" pagecolor=\"#ffffff\" showgrid=\"false\"/>\n",
       "  <metadata id=\"metadata7\">\n",
       "    <rdf:RDF>\n",
       "      <cc:Work rdf:about=\"\">\n",
       "        <dc:format>image/svg+xml</dc:format>\n",
       "        <dc:type rdf:resource=\"http://purl.org/dc/dcmitype/StillImage\"/>\n",
       "        <dc:title/>\n",
       "      </cc:Work>\n",
       "    </rdf:RDF>\n",
       "  </metadata>\n",
       "  <g id=\"layer1\" inkscape:groupmode=\"layer\" inkscape:label=\"Layer 1\" transform=\"translate(-126.8474,-255.33581)\">\n",
       "    <path d=\"m 145.71429,278.07649 0,262.85714 418.96098,0\" id=\"path3336\" inkscape:connector-curvature=\"0\" style=\"fill:none;fill-rule:evenodd;stroke:#000000;stroke-width:2;stroke-linecap:butt;stroke-linejoin:miter;stroke-miterlimit:4;stroke-dasharray:none;stroke-opacity:1;marker-start:url(#Arrow2Mstart);marker-end:url(#Arrow2Mend)\"/>\n",
       "    <path d=\"m 139.40105,452.33159 c 0,0 89.10364,-107.35663 220.14146,-139.37132 63.07998,-15.41147 160.57221,110.79479 160.57221,110.79479\" id=\"path4462\" inkscape:connector-curvature=\"0\" sodipodi:nodetypes=\"csc\" style=\"fill:none;fill-rule:evenodd;stroke:#ff0000;stroke-width:5;stroke-linecap:butt;stroke-linejoin:miter;stroke-miterlimit:4;stroke-dasharray:none;stroke-opacity:1\"/>\n",
       "    <path d=\"m 360.75,540.71994 0,-227.28432\" id=\"path4514\" inkscape:connector-curvature=\"0\" sodipodi:nodetypes=\"cc\" style=\"fill:none;fill-rule:evenodd;stroke:#000000;stroke-width:2;stroke-linecap:butt;stroke-linejoin:miter;stroke-miterlimit:4;stroke-dasharray:none;stroke-dashoffset:0;stroke-opacity:1\"/>\n",
       "    <path d=\"m 310.5,540.21486 0,-209.13312\" id=\"path4516\" inkscape:connector-curvature=\"0\" sodipodi:nodetypes=\"cc\" style=\"fill:none;fill-rule:evenodd;stroke:#000000;stroke-width:2;stroke-linecap:butt;stroke-linejoin:miter;stroke-miterlimit:4;stroke-dasharray:6, 2;stroke-dashoffset:0;stroke-opacity:1\"/>\n",
       "    <path d=\"m 410.5,539.20471 0,-215.66757\" id=\"path4518\" inkscape:connector-curvature=\"0\" sodipodi:nodetypes=\"cc\" style=\"fill:none;fill-rule:evenodd;stroke:#000000;stroke-width:2;stroke-linecap:butt;stroke-linejoin:miter;stroke-miterlimit:4;stroke-dasharray:6, 2;stroke-dashoffset:0;stroke-opacity:1\"/>\n",
       "    <path d=\"m 310.87445,563.88038 49.49747,0\" id=\"path4674\" inkscape:connector-curvature=\"0\" style=\"fill:none;fill-rule:evenodd;stroke:#000000;stroke-width:1px;stroke-linecap:butt;stroke-linejoin:miter;stroke-opacity:1;marker-start:url(#marker4676);marker-end:url(#marker4728)\"/>\n",
       "    <path d=\"m 362.64477,563.88038 47.47716,0\" id=\"path4792\" inkscape:connector-curvature=\"0\" sodipodi:nodetypes=\"cc\" style=\"fill:none;fill-rule:evenodd;stroke:#000000;stroke-width:1px;stroke-linecap:butt;stroke-linejoin:miter;stroke-opacity:1;marker-start:url(#marker4794);marker-end:url(#marker4852)\"/>\n",
       "    <text id=\"text5912\" sodipodi:linespacing=\"125%\" style=\"font-style:normal;font-weight:normal;font-size:40px;line-height:125%;font-family:sans-serif;letter-spacing:0px;word-spacing:0px;fill:#000000;fill-opacity:1;stroke:none;stroke-width:1px;stroke-linecap:butt;stroke-linejoin:miter;stroke-opacity:1\" x=\"356.34192\" xml:space=\"preserve\" y=\"555.77521\"><tspan id=\"tspan5914\" sodipodi:role=\"line\" style=\"font-size:15px\" x=\"356.34192\" y=\"555.77521\">x</tspan></text>\n",
       "    <text id=\"text5916\" sodipodi:linespacing=\"125%\" style=\"font-style:normal;font-weight:normal;font-size:40px;line-height:125%;font-family:sans-serif;letter-spacing:0px;word-spacing:0px;fill:#000000;fill-opacity:1;stroke:none;stroke-width:1px;stroke-linecap:butt;stroke-linejoin:miter;stroke-opacity:1\" x=\"290.42944\" xml:space=\"preserve\" y=\"556.28027\"><tspan id=\"tspan5918\" sodipodi:role=\"line\" style=\"font-size:15px\" x=\"290.42944\" y=\"556.28027\">x−Δx</tspan></text>\n",
       "    <text id=\"text5920\" sodipodi:linespacing=\"125%\" style=\"font-style:normal;font-weight:normal;font-size:40px;line-height:125%;font-family:sans-serif;letter-spacing:0px;word-spacing:0px;fill:#000000;fill-opacity:1;stroke:none;stroke-width:1px;stroke-linecap:butt;stroke-linejoin:miter;stroke-opacity:1\" x=\"390.6871\" xml:space=\"preserve\" y=\"555.77521\"><tspan id=\"tspan5922\" sodipodi:role=\"line\" style=\"font-size:15px\" x=\"390.6871\" y=\"555.77521\">x+Δx</tspan></text>\n",
       "    <text id=\"text5928\" sodipodi:linespacing=\"125%\" style=\"font-style:normal;font-weight:normal;font-size:40px;line-height:125%;font-family:sans-serif;letter-spacing:0px;word-spacing:0px;fill:#000000;fill-opacity:1;stroke:none;stroke-width:1px;stroke-linecap:butt;stroke-linejoin:miter;stroke-opacity:1\" x=\"324.52213\" xml:space=\"preserve\" y=\"578.75616\"><tspan id=\"tspan5930\" sodipodi:role=\"line\" style=\"font-size:15px\" x=\"324.52213\" y=\"578.75616\">Δx</tspan></text>\n",
       "    <text id=\"text5932\" sodipodi:linespacing=\"125%\" style=\"font-style:normal;font-weight:normal;font-size:40px;line-height:125%;font-family:sans-serif;letter-spacing:0px;word-spacing:0px;fill:#000000;fill-opacity:1;stroke:none;stroke-width:1px;stroke-linecap:butt;stroke-linejoin:miter;stroke-opacity:1\" x=\"376.03992\" xml:space=\"preserve\" y=\"578.75616\"><tspan id=\"tspan5934\" sodipodi:role=\"line\" style=\"font-size:15px\" x=\"376.03992\" y=\"578.75616\">Δx</tspan></text>\n",
       "    <path d=\"M 210,456.64792 178.57143,414.50506\" id=\"path5936\" inkscape:connector-curvature=\"0\" style=\"fill:none;fill-rule:evenodd;stroke:#000000;stroke-width:1px;stroke-linecap:butt;stroke-linejoin:miter;stroke-opacity:1;marker-end:url(#Arrow1Mend)\"/>\n",
       "    <text id=\"text6012\" sodipodi:linespacing=\"125%\" style=\"font-style:normal;font-weight:normal;font-size:40px;line-height:125%;font-family:sans-serif;letter-spacing:0px;word-spacing:0px;fill:#000000;fill-opacity:1;stroke:none;stroke-width:1px;stroke-linecap:butt;stroke-linejoin:miter;stroke-opacity:1\" x=\"210\" xml:space=\"preserve\" y=\"470.21936\"><tspan id=\"tspan6014\" sodipodi:role=\"line\" style=\"font-size:15px\" x=\"210\" y=\"470.21936\">f(x)</tspan></text>\n",
       "    <path d=\"M 267.94297,334.39629 453.30595,321.76937\" id=\"path6016\" inkscape:connector-curvature=\"0\" sodipodi:nodetypes=\"cc\" style=\"fill:#00ccff;fill-rule:evenodd;stroke:#0000d4;stroke-width:2;stroke-linecap:butt;stroke-linejoin:miter;stroke-miterlimit:4;stroke-dasharray:none;stroke-opacity:1\"/>\n",
       "    <path d=\"M 393.45441,300.30364 280.06479,343.99273\" id=\"path6018\" inkscape:connector-curvature=\"0\" sodipodi:nodetypes=\"cc\" style=\"fill:#008000;fill-rule:evenodd;stroke:#2aff2a;stroke-width:2;stroke-linecap:butt;stroke-linejoin:miter;stroke-miterlimit:4;stroke-dasharray:none;stroke-opacity:1\"/>\n",
       "    <path d=\"m 305.82369,298.7884 146.21958,35.86042\" id=\"path6020\" inkscape:connector-curvature=\"0\" sodipodi:nodetypes=\"cc\" style=\"fill:none;fill-rule:evenodd;stroke:#00ccff;stroke-width:2;stroke-linecap:butt;stroke-linejoin:miter;stroke-miterlimit:4;stroke-dasharray:none;stroke-opacity:1\"/>\n",
       "    <path d=\"m 468.21429,343.07649 c -1.78572,0 -22.5,-10 -22.5,-10\" id=\"path6022\" inkscape:connector-curvature=\"0\" style=\"fill:none;fill-rule:evenodd;stroke:#000000;stroke-width:1px;stroke-linecap:butt;stroke-linejoin:miter;stroke-opacity:1;marker-end:url(#marker6030)\"/>\n",
       "    <text id=\"text6112\" sodipodi:linespacing=\"125%\" style=\"font-style:normal;font-weight:normal;font-size:40px;line-height:125%;font-family:sans-serif;letter-spacing:0px;word-spacing:0px;fill:#000000;fill-opacity:1;stroke:none;stroke-width:1px;stroke-linecap:butt;stroke-linejoin:miter;stroke-opacity:1\" x=\"473.92856\" xml:space=\"preserve\" y=\"352.36221\"><tspan id=\"tspan6114\" sodipodi:role=\"line\" style=\"font-size:15px\" x=\"473.92856\" y=\"352.36221\">forward-difference</tspan></text>\n",
       "    <path d=\"m 420.71429,287.3622 -2.14286,36.42858\" id=\"path6116\" inkscape:connector-curvature=\"0\" style=\"fill:none;fill-rule:evenodd;stroke:#000000;stroke-width:1px;stroke-linecap:butt;stroke-linejoin:miter;stroke-opacity:1;marker-end:url(#marker6124)\"/>\n",
       "    <text id=\"text6212\" sodipodi:linespacing=\"125%\" style=\"font-style:normal;font-weight:normal;font-size:40px;line-height:125%;font-family:sans-serif;letter-spacing:0px;word-spacing:0px;fill:#000000;fill-opacity:1;stroke:none;stroke-width:1px;stroke-linecap:butt;stroke-linejoin:miter;stroke-opacity:1\" x=\"366.07141\" xml:space=\"preserve\" y=\"277.36221\"><tspan id=\"tspan6214\" sodipodi:role=\"line\" style=\"font-size:15px\" x=\"366.07141\" y=\"277.36221\">central-difference</tspan></text>\n",
       "    <path d=\"m 280.71429,297.36221 45.71428,27.14285\" id=\"path6216\" inkscape:connector-curvature=\"0\" sodipodi:nodetypes=\"cc\" style=\"fill:none;fill-rule:evenodd;stroke:#000000;stroke-width:1px;stroke-linecap:butt;stroke-linejoin:miter;stroke-opacity:1;marker-end:url(#marker6224)\"/>\n",
       "    <text id=\"text6318\" sodipodi:linespacing=\"125%\" style=\"font-style:normal;font-weight:normal;font-size:40px;line-height:125%;font-family:sans-serif;letter-spacing:0px;word-spacing:0px;fill:#000000;fill-opacity:1;stroke:none;stroke-width:1px;stroke-linecap:butt;stroke-linejoin:miter;stroke-opacity:1\" x=\"172.14284\" xml:space=\"preserve\" y=\"293.07651\"><tspan id=\"tspan6320\" sodipodi:role=\"line\" style=\"font-size:15px\" x=\"172.14284\" y=\"293.07651\">backward-difference</tspan></text>\n",
       "  </g>\n",
       "</svg>"
      ],
      "text/plain": [
       "<IPython.core.display.SVG object>"
      ]
     },
     "metadata": {},
     "output_type": "display_data"
    }
   ],
   "source": [
    "from IPython.display import SVG, display\n",
    "display(SVG(url='https://upload.wikimedia.org/wikipedia/commons/9/90/Finite_difference_method.svg'))"
   ]
  },
  {
   "cell_type": "code",
   "execution_count": 2,
   "metadata": {},
   "outputs": [
    {
     "data": {
      "text/plain": [
       "<matplotlib.collections.PathCollection at 0x7f3882302550>"
      ]
     },
     "execution_count": 2,
     "metadata": {},
     "output_type": "execute_result"
    },
    {
     "data": {
      "image/png": "[encoded data removed]",
      "text/plain": [
       "<Figure size 432x288 with 2 Axes>"
      ]
     },
     "metadata": {
      "needs_background": "light"
     },
     "output_type": "display_data"
    }
   ],
   "source": [
    "%matplotlib inline\n",
    "import matplotlib.pyplot as plt\n",
    "import numpy as np\n",
    "\n",
    "def f(x):\n",
    "    return -(0.1*x**4)-(0.15*x**3)-(0.5*x**2)-(0.25*x)+1.2\n",
    "    #return np.sin(x)\n",
    "\n",
    "def df(x):\n",
    "    return (-0.4*x**3)-(0.45*x**2)-(1.0*x)-0.25\n",
    "    #return np.cos(x)\n",
    "\n",
    "x = np.linspace(0,1,100)   \n",
    "x0 = 0.5\n",
    "n = 30\n",
    "\n",
    "h = np.zeros(n,float)\n",
    "err = np.zeros(n,float)\n",
    "\n",
    "for i in range(n):\n",
    "    h[i] = float(10**(-i))\n",
    "    dfnum = (f(x0+h[i]/2.)-f(x0-h[i]/2.))/(h[i])\n",
    "    dftrue = df(x0)\n",
    "    err[i] = np.abs(dfnum-dftrue)\n",
    "    \n",
    "fig, ax = plt.subplots(2)\n",
    "ax[0].plot(x,f(x))\n",
    "ax[1].loglog(h,err)\n",
    "\n",
    "    \n",
    "\n",
    "plt.scatter(x,f(x))"
   ]
  },
  {
   "cell_type": "code",
   "execution_count": 5,
   "metadata": {},
   "outputs": [
    {
     "data": {
      "image/png": "[encoded data removed]",
      "text/plain": [
       "<matplotlib.figure.Figure at 0x7ff6ce7a0350>"
      ]
     },
     "metadata": {},
     "output_type": "display_data"
    }
   ],
   "source": [
    "def f(x):\n",
    "    #return -(0.1*x**4)-(0.15*x**3)-(0.5*x**2)-(0.25*x)+1.2\n",
    "    return np.sin(x)\n",
    "\n",
    "def df(x):\n",
    "    #return (-0.4*x**3)-(0.45*x**2)-(1.0*x)-0.25\n",
    "    return np.cos(x)\n",
    "\n",
    "h = 1.0e-1\n",
    "\n",
    "a = 0; b=2*np.pi\n",
    "\n",
    "x = np.arange(a,b+h,h)\n",
    "dfnum = np.zeros(x.size)\n",
    "\n",
    "for i in range(x.size):\n",
    "    if ((i > 0) & (i < x.size-2)):\n",
    "        dfnum[i] = (f(x[i]+h)-f(x[i]-h))/(2*h)\n",
    "    elif (i == 0):\n",
    "        dfnum[i] = (f(x[i]+h)-f(x[i]))/h\n",
    "    else:\n",
    "        dfnum[i] = (f(x[i])-f(x[i]-h))/h\n",
    "        \n",
    "plt.plot(x,dfnum,'.r')\n",
    "plt.plot(x,f(x))\n",
    "plt.plot(x,df(x))\n",
    "plt.show()"
   ]
  },
  {
   "cell_type": "markdown",
   "metadata": {},
   "source": [
    "## Derivada de dados tabulados\n",
    "\n",
    "Muitas vezes temos que lidar com o problema de obter derivadas de dados obtidos experimentalmente. Em geral para esses dados não temos a opção de calcular a função em pontos específicos e muitas vezes nem mesmo temos a função. Existem duas situações típicas: 1) dados amostrados regularmente 2) dados sem regularidade na amostragem.\n",
    "\n",
    "No primeiro caso usamos a formula das diferenças centrais. No entanto, como em geral não temos como gerar outros pontos, devemos adaptar o método. No caso de dados amostrados em intervalos regulares de tamanho h usamos:\n",
    "\n",
    "$$f'(x) \\approx {f(x+h)-f(x-h) \\over 2h}$$ \n",
    "\n",
    "Outra estratégia é calcular a derivada com a diferença central usual mas em um ponto no meio do intervalo. A desvantagem é que a derivada seria calculada em um ponto para o qual dados não foram obtidos e em algumas aplicações isso pode não ser útil.\n",
    "\n",
    "No segundo caso, não ha outra alternativa a não ser fazer interpolação para regularizar a amostragem dos dados. Veremos isso mais adiante no curso.\n",
    "\n",
    "\n",
    "## aproximações de ordem mais alta\n",
    "\n",
    "Uma maneira de interpretar o procedimento de cálculo de uma derivada numérica é que estamos ajustando uma reta em dois pontos distantes h um do outro e tomando a inclinação dessa reta como nossa derivada. Nesse contexto podemos pensar em ajustar polinomios de ordem mais altas para calcular as derivadas, assim como fizemos com os métodos de Newton-Cotes de ordens maiores.\n",
    "\n",
    "No livro texto é mostrado uma aproximação de polinomio de segundo grau, que leva a formula da diferença central, assim como uma tabela com coeficientes para aproximações de ordens maiores:\n",
    "\n",
    "http://www.umich.edu/~mejn/cp/chapters/int.pdf\n",
    "\n",
    "## Usando o Python\n",
    "\n",
    "A função SciPy scipy.misc.derivative calcula derivados usando a fórmula de diferença central."
   ]
  },
  {
   "cell_type": "code",
   "execution_count": 7,
   "metadata": {},
   "outputs": [
    {
     "name": "stdout",
     "output_type": "stream",
     "text": [
      "[ 1.0016675   2.72281456  7.40137735 20.11902956 54.68919246]\n"
     ]
    }
   ],
   "source": [
    "from scipy.misc import derivative\n",
    "\n",
    "x = np.arange(0,5)\n",
    "der = derivative(np.exp,x,dx=0.1)\n",
    "\n",
    "print(der)"
   ]
  },
  {
   "cell_type": "markdown",
   "metadata": {},
   "source": [
    "## Segunda Derivada\n",
    "\n",
    "## Derivadas Parciais"
   ]
  },
  {
   "cell_type": "code",
   "execution_count": 10,
   "metadata": {},
   "outputs": [
    {
     "data": {
      "text/plain": [
       "1.0"
      ]
     },
     "execution_count": 10,
     "metadata": {},
     "output_type": "execute_result"
    }
   ],
   "source": [
    "interv[10]"
   ]
  },
  {
   "cell_type": "markdown",
   "metadata": {
    "jupyter": {
     "outputs_hidden": true
    }
   },
   "source": [
    "## Exercícios:\n",
    "\n",
    "#### 1 - Escreva um programa para calcular as derivadas parciais de funções polinmiais multivariadas como por exemplo $f(x,y) = x^2y + xy -y^2$. Explore graficamente a função e os erros cometidos em função da amostragem adotada.\n",
    "  "
   ]
  },
  {
   "cell_type": "code",
   "execution_count": null,
   "metadata": {},
   "outputs": [],
   "source": []
  }
 ],
 "metadata": {
  "anaconda-cloud": {},
  "kernelspec": {
   "display_name": "Python 3",
   "language": "python",
   "name": "python3"
  },
  "language_info": {
   "codemirror_mode": {
    "name": "ipython",
    "version": 3
   },
   "file_extension": ".py",
   "mimetype": "text/x-python",
   "name": "python",
   "nbconvert_exporter": "python",
   "pygments_lexer": "ipython3",
   "version": "3.7.3"
  }
 },
 "nbformat": 4,
 "nbformat_minor": 4
}
