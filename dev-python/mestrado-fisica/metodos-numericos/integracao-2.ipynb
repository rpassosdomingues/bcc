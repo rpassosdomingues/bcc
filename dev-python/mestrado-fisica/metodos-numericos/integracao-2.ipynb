{
 "cells": [
  {
   "cell_type": "code",
   "execution_count": 5,
   "metadata": {
    "collapsed": false,
    "jupyter": {
     "outputs_hidden": false
    }
   },
   "outputs": [],
   "source": [
    "%matplotlib inline\n",
    "import numpy as np\n",
    "import matplotlib.pyplot as plt"
   ]
  },
  {
   "cell_type": "code",
   "execution_count": 51,
   "metadata": {
    "collapsed": false,
    "jupyter": {
     "outputs_hidden": false
    }
   },
   "outputs": [],
   "source": [
    "def f(x):\n",
    "    #return (a-3)*(a-5)*(a-7)+85\n",
    "    return 1 + x**3 + np.sin(50.*x)"
   ]
  },
  {
   "cell_type": "code",
   "execution_count": 52,
   "metadata": {
    "collapsed": false,
    "jupyter": {
     "outputs_hidden": false
    }
   },
   "outputs": [],
   "source": [
    "x = np.linspace(0, 10, 400)\n",
    "y = f(x)"
   ]
  },
  {
   "cell_type": "code",
   "execution_count": 53,
   "metadata": {
    "collapsed": false,
    "jupyter": {
     "outputs_hidden": false
    }
   },
   "outputs": [],
   "source": [
    "a, b = 0., 2.                     # define os limnites de integração\n",
    "\n",
    "ndiv = 100                        # numero de intervalos a serem utilizados\n",
    "xint = np.linspace(a,b,ndiv)    # cria um vetor com ndiv elementos entre os limites de integração\n",
    "yint = f(xint)                  # calcula o valor da função nos pontos do vetor acima\n"
   ]
  },
  {
   "cell_type": "code",
   "execution_count": 54,
   "metadata": {
    "collapsed": false,
    "jupyter": {
     "outputs_hidden": false
    }
   },
   "outputs": [
    {
     "data": {
      "image/png": "[encoded data removed]",
      "text/plain": [
       "<matplotlib.figure.Figure at 0x7f5b6b0be5d0>"
      ]
     },
     "metadata": {},
     "output_type": "display_data"
    }
   ],
   "source": [
    " plt.plot(x, y, lw=2,color='r')\n",
    "plt.axis([a-1, b+1, 0, max([f(a),f(b)])])\n",
    "plt.plot(xint,yint,'bo')\n",
    "\n",
    "\n",
    "for i in range(ndiv-1):\n",
    "    xfit = np.array([xint[i],(xint[i]+xint[i+1])/2,xint[i+1]])\n",
    "    yfit = f(xfit)\n",
    "\n",
    "    # calculate polynomial\n",
    "    z = np.polyfit(xfit, yfit, 2)\n",
    "    #print(\"Fit coeficients\", z)\n",
    "    fit = np.poly1d(z)\n",
    "    xnew = np.linspace(xfit[0], xfit[2], 50)\n",
    "    ynew = fit(xnew)\n",
    "    \n",
    "    plt.plot(xnew,ynew,color='b')\n",
    "    plt.fill_between(xnew, 0, ynew, facecolor='gray', alpha=0.4)"
   ]
  },
  {
   "cell_type": "code",
   "execution_count": 55,
   "metadata": {
    "collapsed": false,
    "jupyter": {
     "outputs_hidden": false
    }
   },
   "outputs": [
    {
     "name": "stdout",
     "output_type": "stream",
     "text": [
      "('Integral por quadratura:', 6.002753622554247, '+/-', 1.917556928130934e-10)\n",
      "('Integral usando ', 100, 'trapezoides:', 6.0029235358789599)\n",
      "('erro relativo:', -2.8305896826226489e-05)\n",
      "('Integral usando Simpson', 6.003114979663227)\n",
      "('erro relativo:', -6.019855747913912e-05)\n"
     ]
    }
   ],
   "source": [
    "from scipy.integrate import quad, trapz, simps\n",
    "integral, error = quad(f, a, b)\n",
    "print(\"Integral por quadratura:\", integral, \"+/-\", error)\n",
    "\n",
    "print(\"Integral usando \", len(xint), \"trapezoides:\", trapz(yint, xint))\n",
    "print(\"erro relativo:\",(integral-trapz(yint, xint))/integral)\n",
    "\n",
    "print(\"Integral usando Simpson\", simps(yint, xint))\n",
    "print(\"erro relativo:\",(integral-simps(yint, xint))/integral)"
   ]
  },
  {
   "cell_type": "markdown",
   "metadata": {},
   "source": [
    "## Exercícios"
   ]
  },
  {
   "cell_type": "markdown",
   "metadata": {},
   "source": [
    "Exercício 1: Escreva uma função em python que calcule a integral pelo método de Simpson, da mesma maneira que foi feito para o método dos trapézios. Com essa função calcule a integrais da função abaixo:\n",
    "\n",
    "$$b)~f_2(x) = 1 + x^3 + \\sin(kx)~~~com~a=0~e~b=2$$\n",
    "  \n",
    "  onde $k$ é um parametro que para este exercício deve ser adotado como $k=50$.\n",
    "  \n",
    "  - Faça uma análise dos erros cometidos a medida que se aumenta o numero de intervalos na integração da função acima no intervalo [0,2]. Para o numero de intervalos utilize a seginte sequencia: \n",
    "  \n",
    "  [2, 4, 6, 8, 10, 20, 40, 80, 100,200, 300, 600, 1000, 2000]\n",
    "  \n",
    "  Utilize gráficos para mostrar seus resultados."
   ]
  },
  {
   "cell_type": "code",
   "execution_count": null,
   "metadata": {
    "collapsed": false,
    "jupyter": {
     "outputs_hidden": false
    }
   },
   "outputs": [],
   "source": []
  }
 ],
 "metadata": {
  "kernelspec": {
   "display_name": "Python 3",
   "language": "python",
   "name": "python3"
  },
  "language_info": {
   "codemirror_mode": {
    "name": "ipython",
    "version": 3
   },
   "file_extension": ".py",
   "mimetype": "text/x-python",
   "name": "python",
   "nbconvert_exporter": "python",
   "pygments_lexer": "ipython3",
   "version": "3.7.3"
  }
 },
 "nbformat": 4,
 "nbformat_minor": 4
}
